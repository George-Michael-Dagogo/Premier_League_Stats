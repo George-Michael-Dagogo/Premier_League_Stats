{
 "cells": [
  {
   "cell_type": "code",
   "execution_count": 2,
   "metadata": {},
   "outputs": [],
   "source": [
    "import requests\n",
    "from bs4 import BeautifulSoup\n",
    "import pandas as pd\n",
    "from pyspark.sql import SparkSession\n",
    "import pyspark.sql.functions as F\n",
    "from pyspark.sql.functions import when,lit,col,split,expr\n",
    "from pyspark.sql.types import StringType\n",
    "import re"
   ]
  },
  {
   "cell_type": "code",
   "execution_count": 3,
   "metadata": {},
   "outputs": [
    {
     "name": "stderr",
     "output_type": "stream",
     "text": [
      "Picked up JAVA_TOOL_OPTIONS:  -Xmx3489m\n",
      "Picked up JAVA_TOOL_OPTIONS:  -Xmx3489m\n"
     ]
    },
    {
     "name": "stdout",
     "output_type": "stream",
     "text": [
      "23/01/07 21:01:56 WARN Utils: Your hostname, georgemicha-premierleag-b6ljki953qu resolves to a loopback address: 127.0.0.1; using 10.0.5.2 instead (on interface ceth0)\n",
      "23/01/07 21:01:56 WARN Utils: Set SPARK_LOCAL_IP if you need to bind to another address\n"
     ]
    },
    {
     "name": "stderr",
     "output_type": "stream",
     "text": [
      "Setting default log level to \"WARN\".\n",
      "To adjust logging level use sc.setLogLevel(newLevel). For SparkR, use setLogLevel(newLevel).\n"
     ]
    },
    {
     "name": "stdout",
     "output_type": "stream",
     "text": [
      "23/01/07 21:01:57 WARN NativeCodeLoader: Unable to load native-hadoop library for your platform... using builtin-java classes where applicable\n"
     ]
    }
   ],
   "source": [
    "#start spark session\n",
    "spark = SparkSession \\\n",
    ".builder \\\n",
    ".appName(\"Python Spark create RDD example\") \\\n",
    ".config(\"spark.some.config.option\", \"some-value\") \\\n",
    ".getOrCreate()"
   ]
  },
  {
   "cell_type": "code",
   "execution_count": 11,
   "metadata": {},
   "outputs": [],
   "source": [
    "def get_table():\n",
    "\n",
    "    #EXTRACT with beautiful soup\n",
    "\n",
    "    url = 'https://www.bbc.com/sport/football/premier-league/table'\n",
    "    headers = []\n",
    "    page = requests.get(url)\n",
    "    soup = BeautifulSoup(page.text,  \"html.parser\")\n",
    "    table= soup.find(\"table\", class_=\"ssrcss-14j0ip6-Table e3bga5w4\")\n",
    "\n",
    "    for i in table.find_all('th'):\n",
    "        title = i.text\n",
    "        headers.append(title)\n",
    "    league_table = pd.DataFrame(columns = headers)\n",
    "    for j in table.find_all('tr')[1:]:\n",
    "        row_data = j.find_all('td')\n",
    "        row = [i.text for i in row_data]\n",
    "        length = len(league_table)\n",
    "        league_table.loc[length] = row\n",
    "\n",
    "    #TRANSFORM with PySpark\n",
    "\n",
    "    league = spark.createDataFrame(league_table) \n",
    "    #drop unwanted column\n",
    "    league = league.drop(\"Form, Last 6 games, Oldest first\") \n",
    "    #rename columns\n",
    "    league = league.withColumnRenamed(\"Goals For\",\"Goals_For\").withColumnRenamed(\"Goals Against\",\"Goals_Against\") \\\n",
    "                    .withColumnRenamed(\"Goal Difference\",\"Goal_Difference\")\n",
    "    #add new columns based on existing columns\n",
    "    league = league.withColumn(\"grade_class\",  when((league.Lost == 0) & (league.Drawn == 0) \\\n",
    "                        & (league.Points <= league['Goals_For']), lit(\"S\"))\n",
    "                        .when((league.Lost == 0) & (league.Drawn <= 2), lit(\"A+\"))\n",
    "                        .when((league.Lost <= 1) & (league.Drawn <= 3), lit(\"A\"))\n",
    "                    .when((league.Lost <= 1  ) & (league.Drawn <= 4  ), lit('B'))\n",
    "                    .otherwise('C')) \n",
    "\n",
    "    league = league.withColumn('conqueror', lit(league.Points - (league.Played * 3)).cast('integer'))\n",
    "    # conqueror column, the difference between the teams current points and the points if they didn't loose or draw any math\n",
    "    league.show()\n",
    "\n"
   ]
  },
  {
   "cell_type": "code",
   "execution_count": null,
   "metadata": {},
   "outputs": [],
   "source": []
  },
  {
   "attachments": {},
   "cell_type": "markdown",
   "metadata": {},
   "source": [
    "## Top Scorers table"
   ]
  },
  {
   "cell_type": "code",
   "execution_count": 1,
   "metadata": {},
   "outputs": [],
   "source": [
    "def get_top_scorers():\n",
    "    url = 'https://www.bbc.com/sport/football/premier-league/top-scorers'\n",
    "    headers = []\n",
    "    page = requests.get(url)\n",
    "    soup = BeautifulSoup(page.text,  \"html.parser\")\n",
    "    table= soup.find(\"table\", class_=\"gs-o-table\")\n",
    "\n",
    "    for i in table.find_all('th'):\n",
    "        title = i.text\n",
    "        headers.append(title)\n",
    "    top_scorers = pd.DataFrame(columns = headers)\n",
    "    for j in table.find_all('tr')[1:]:\n",
    "        row_data = j.find_all('td')\n",
    "        row = [i.text for i in row_data]\n",
    "        length = len(top_scorers)\n",
    "        top_scorers.loc[length] = row\n",
    "\n",
    "\n",
    "\n",
    "    top_scorers \n"
   ]
  },
  {
   "cell_type": "code",
   "execution_count": 6,
   "metadata": {},
   "outputs": [],
   "source": [
    "def get_assists():\n",
    "    url = 'https://www.bbc.com/sport/football/premier-league/top-scorers/assists'\n",
    "    headers = []\n",
    "    page = requests.get(url)\n",
    "    soup = BeautifulSoup(page.text,  \"html.parser\")\n",
    "    table= soup.find(\"table\", class_=\"gs-o-table\")\n",
    "\n",
    "    for i in table.find_all('th'):\n",
    "        title = i.text\n",
    "        headers.append(title)\n",
    "    assists = pd.DataFrame(columns = headers)\n",
    "    for j in table.find_all('tr')[1:]:\n",
    "        row_data = j.find_all('td')\n",
    "        row = [i.text for i in row_data]\n",
    "        length = len(assists)\n",
    "        assists.loc[length] = row\n",
    "\n",
    "    assists"
   ]
  },
  {
   "cell_type": "code",
   "execution_count": 6,
   "metadata": {},
   "outputs": [],
   "source": [
    "def detail_top():\n",
    "    url = 'https://www.worldfootball.net/goalgetter/eng-premier-league-2022-2023/'\n",
    "    headers = []\n",
    "    page = requests.get(url)\n",
    "    soup = BeautifulSoup(page.text,  \"html.parser\")\n",
    "    table= soup.find(\"table\", class_=\"standard_tabelle\")\n",
    "\n",
    "    for i in table.find_all('th'):\n",
    "        title = i.text\n",
    "        headers.append(title)\n",
    "    detail_top_scorer = pd.DataFrame(columns = headers)\n",
    "    for j in table.find_all('tr')[1:]:\n",
    "        row_data = j.find_all('td')\n",
    "        row = [i.text for i in row_data]\n",
    "        length = len(detail_top_scorer)\n",
    "        detail_top_scorer.loc[length] = row\n",
    "\n",
    "    detail_top = spark.createDataFrame(detail_top_scorer) \n",
    "    detail_top = detail_top.drop(detail_top[''])\n",
    "    detail_top = detail_top.withColumn(\"Team\", F.regexp_replace(F.col(\"Team\"), \"[\\'\\n\\n']\", \"\"))\n",
    "    detail_top.show()\n"
   ]
  }
 ],
 "metadata": {
  "kernelspec": {
   "display_name": "Python 3",
   "language": "python",
   "name": "python3"
  },
  "language_info": {
   "codemirror_mode": {
    "name": "ipython",
    "version": 3
   },
   "file_extension": ".py",
   "mimetype": "text/x-python",
   "name": "python",
   "nbconvert_exporter": "python",
   "pygments_lexer": "ipython3",
   "version": "3.8.13"
  },
  "orig_nbformat": 4,
  "vscode": {
   "interpreter": {
    "hash": "9ac03a0a6051494cc606d484d27d20fce22fb7b4d169f583271e11d5ba46a56e"
   }
  }
 },
 "nbformat": 4,
 "nbformat_minor": 2
}
