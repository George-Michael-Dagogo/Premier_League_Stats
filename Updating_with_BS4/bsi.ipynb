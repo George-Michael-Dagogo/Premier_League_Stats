{
 "cells": [
  {
   "cell_type": "code",
   "execution_count": 27,
   "metadata": {},
   "outputs": [],
   "source": [
    "from bs import *"
   ]
  },
  {
   "cell_type": "code",
   "execution_count": null,
   "metadata": {},
   "outputs": [],
   "source": []
  },
  {
   "cell_type": "code",
   "execution_count": 29,
   "metadata": {},
   "outputs": [
    {
     "ename": "NameError",
     "evalue": "name 'get_top_scorers' is not defined",
     "output_type": "error",
     "traceback": [
      "\u001b[0;31m---------------------------------------------------------------------------\u001b[0m",
      "\u001b[0;31mNameError\u001b[0m                                 Traceback (most recent call last)",
      "Cell \u001b[0;32mIn [29], line 1\u001b[0m\n\u001b[0;32m----> 1\u001b[0m get_top_scorers\n",
      "\u001b[0;31mNameError\u001b[0m: name 'get_top_scorers' is not defined"
     ]
    }
   ],
   "source": [
    "\n",
    "\n"
   ]
  },
  {
   "cell_type": "code",
   "execution_count": null,
   "metadata": {},
   "outputs": [],
   "source": []
  },
  {
   "attachments": {},
   "cell_type": "markdown",
   "metadata": {},
   "source": [
    "## Top Scorers table"
   ]
  },
  {
   "cell_type": "code",
   "execution_count": 1,
   "metadata": {},
   "outputs": [],
   "source": [
    "\n"
   ]
  },
  {
   "cell_type": "code",
   "execution_count": 6,
   "metadata": {},
   "outputs": [],
   "source": [
    "\n",
    "    "
   ]
  },
  {
   "cell_type": "code",
   "execution_count": 6,
   "metadata": {},
   "outputs": [],
   "source": [
    "\n"
   ]
  },
  {
   "cell_type": "code",
   "execution_count": 4,
   "metadata": {},
   "outputs": [],
   "source": []
  },
  {
   "cell_type": "code",
   "execution_count": 5,
   "metadata": {},
   "outputs": [],
   "source": [
    "a = [f'https://www.worldfootball.net/players_list/eng-premier-league-2022-2023/nach-name/{i:d}' for i in (range(1, 13))]\n"
   ]
  },
  {
   "cell_type": "code",
   "execution_count": 35,
   "metadata": {},
   "outputs": [
    {
     "name": "stdout",
     "output_type": "stream",
     "text": [
      "                  Player                     Team        born  Height Position\n",
      "0       Brenden Aaronson             Leeds United  22/10/2000  178 cm       MF\n",
      "1            Zach Abbott        Nottingham Forest  13/05/2006     ???       DF\n",
      "2           Terry Ablade                Fulham FC  12/10/2001  181 cm       FW\n",
      "3           Adama Traoré  Wolverhampton Wanderers  25/01/1996  178 cm       FW\n",
      "4              Ché Adams           Southampton FC  13/07/1996  179 cm       FW\n",
      "..                   ...                      ...         ...     ...      ...\n",
      "658                Zanka             Brentford FC  23/04/1990  191 cm       DF\n",
      "659        Jordan Zemura          AFC Bournemouth  14/11/1999  173 cm       DF\n",
      "660  Oleksandr Zinchenko               Arsenal FC  15/12/1996  175 cm       DF\n",
      "661         Hakim Ziyech               Chelsea FC  19/03/1993  180 cm       FW\n",
      "662           Kurt Zouma          West Ham United  27/10/1994  190 cm       DF\n",
      "\n",
      "[663 rows x 5 columns]\n"
     ]
    }
   ],
   "source": [
    "def player_table():\n",
    "    a = [f'https://www.worldfootball.net/players_list/eng-premier-league-2022-2023/nach-name/{i:d}' for i in (range(1, 15))]\n",
    "    header = ['Player','','Team','born','Height','Position']\n",
    "    df = pd.DataFrame(columns=header)\n",
    "    def player(ev):\n",
    "        url = ev\n",
    "        headers = []\n",
    "        page = requests.get(url)\n",
    "        soup = BeautifulSoup(page.text,  \"html.parser\")\n",
    "        table= soup.find(\"table\", class_=\"standard_tabelle\")\n",
    "\n",
    "        for i in table.find_all('th'):\n",
    "            title = i.text\n",
    "            headers.append(title)\n",
    "        players = pd.DataFrame(columns = headers)\n",
    "        for j in table.find_all('tr')[1:]:\n",
    "            row_data = j.find_all('td')\n",
    "            row = [i.text for i in row_data]\n",
    "            length = len(players)\n",
    "            players.loc[length] = row\n",
    "        return players\n",
    "\n",
    "    for i in a:\n",
    "        a = player(i)\n",
    "        df = pd.concat([df, a], axis=0).reset_index(drop=True)\n",
    "\n",
    "    df = df.drop([''], axis=1)\n",
    "    df\n",
    "\n",
    "\n",
    "\n",
    "\n",
    "player_table()"
   ]
  },
  {
   "cell_type": "code",
   "execution_count": null,
   "metadata": {},
   "outputs": [],
   "source": []
  }
 ],
 "metadata": {
  "kernelspec": {
   "display_name": "Python 3",
   "language": "python",
   "name": "python3"
  },
  "language_info": {
   "codemirror_mode": {
    "name": "ipython",
    "version": 3
   },
   "file_extension": ".py",
   "mimetype": "text/x-python",
   "name": "python",
   "nbconvert_exporter": "python",
   "pygments_lexer": "ipython3",
   "version": "3.8.13"
  },
  "orig_nbformat": 4,
  "vscode": {
   "interpreter": {
    "hash": "9ac03a0a6051494cc606d484d27d20fce22fb7b4d169f583271e11d5ba46a56e"
   }
  }
 },
 "nbformat": 4,
 "nbformat_minor": 2
}
