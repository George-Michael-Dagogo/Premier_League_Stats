{
 "cells": [
  {
   "cell_type": "code",
   "execution_count": null,
   "metadata": {},
   "outputs": [],
   "source": [
    "def all_time_scorer_own_goal():\n",
    "    a = [f'https://www.worldfootball.net/alltime_goalgetter/eng-premier-league/eigentore/{i:d}' for i in (range(1, 32))]\n",
    "    header = ['#','Player','Team(s)','own goal']\n",
    "    df = pd.DataFrame(columns=header)\n",
    "    def player(ev):\n",
    "        url = ev\n",
    "        headers = []\n",
    "        page = requests.get(url)\n",
    "        soup = BeautifulSoup(page.text,  \"html.parser\")\n",
    "        table= soup.find(\"table\", class_=\"standard_tabelle\")\n",
    "\n",
    "        for i in table.find_all('th'):\n",
    "            title = i.text\n",
    "            headers.append(title)\n",
    "        players = pd.DataFrame(columns = headers)\n",
    "        for j in table.find_all('tr')[1:-1]:\n",
    "            row_data = j.find_all('td')\n",
    "            row = [i.text for i in row_data]\n",
    "            length = len(players)\n",
    "            players.loc[length] = row\n",
    "        return players\n",
    "\n",
    "    for i in a:\n",
    "        a = player(i)\n",
    "        df = pd.concat([df, a], axis=0).reset_index(drop=True)\n",
    "\n",
    "\n",
    "    df['Team(s)'] = df['Team(s)'].str.replace(r'\\n\\n', '', 1)\n",
    "    df['Team(s)'] = df['Team(s)'].str.replace(r'\\n\\n', ',')\n",
    "    df['Team(s)'] = df['Team(s)'].str.replace(r'\\n', '')\n",
    "    df = df.drop(['#'], axis = 1)\n",
    "\n",
    "    return df"
   ]
  }
 ],
 "metadata": {
  "kernelspec": {
   "display_name": "Python 3",
   "language": "python",
   "name": "python3"
  },
  "language_info": {
   "codemirror_mode": {
    "name": "ipython",
    "version": 3
   },
   "file_extension": ".py",
   "mimetype": "text/x-python",
   "name": "python",
   "nbconvert_exporter": "python",
   "pygments_lexer": "ipython3",
   "version": "3.8.13 (default, Oct  4 2022, 14:00:32) \n[GCC 9.4.0]"
  },
  "orig_nbformat": 4,
  "vscode": {
   "interpreter": {
    "hash": "110cc1dee26208153f2972f08a2ad52b6a56238dc66d48e87fb757ef2996db56"
   }
  }
 },
 "nbformat": 4,
 "nbformat_minor": 2
}
